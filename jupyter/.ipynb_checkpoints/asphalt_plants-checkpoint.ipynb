{
 "cells": [
  {
   "cell_type": "code",
   "execution_count": 1,
   "id": "43d2fd5e-b9d9-4f0b-a508-ed8920f98ab2",
   "metadata": {},
   "outputs": [
    {
     "name": "stdout",
     "output_type": "stream",
     "text": [
      "Collecting psycopg2-binary\n",
      "  Downloading psycopg2_binary-2.9.9-cp311-cp311-macosx_10_9_x86_64.whl.metadata (4.4 kB)\n",
      "Downloading psycopg2_binary-2.9.9-cp311-cp311-macosx_10_9_x86_64.whl (2.8 MB)\n",
      "\u001b[2K   \u001b[90m━━━━━━━━━━━━━━━━━━━━━━━━━━━━━━━━━━━━━━━━\u001b[0m \u001b[32m2.8/2.8 MB\u001b[0m \u001b[31m4.8 MB/s\u001b[0m eta \u001b[36m0:00:00\u001b[0m00:01\u001b[0m00:01\u001b[0m\n",
      "\u001b[?25hInstalling collected packages: psycopg2-binary\n",
      "Successfully installed psycopg2-binary-2.9.9\n",
      "\n",
      "\u001b[1m[\u001b[0m\u001b[34;49mnotice\u001b[0m\u001b[1;39;49m]\u001b[0m\u001b[39;49m A new release of pip is available: \u001b[0m\u001b[31;49m23.3.1\u001b[0m\u001b[39;49m -> \u001b[0m\u001b[32;49m24.0\u001b[0m\n",
      "\u001b[1m[\u001b[0m\u001b[34;49mnotice\u001b[0m\u001b[1;39;49m]\u001b[0m\u001b[39;49m To update, run: \u001b[0m\u001b[32;49mpip install --upgrade pip\u001b[0m\n"
     ]
    }
   ],
   "source": [
    "!pip install psycopg2-binary\n"
   ]
  },
  {
   "cell_type": "code",
   "execution_count": 5,
   "id": "fa37a6d1-df8f-4eb7-a5bc-2d80b7bea119",
   "metadata": {},
   "outputs": [],
   "source": [
    "DC_CENTROID = [-77.016299151467,\n",
    "          38.904774980107156]"
   ]
  },
  {
   "cell_type": "code",
   "execution_count": null,
   "id": "5e8a0aa6-e35e-4d05-bf96-a4f82a021a95",
   "metadata": {},
   "outputs": [
    {
     "name": "stdout",
     "output_type": "stream",
     "text": [
      "\n",
      "WITH plant_tracts AS (\n",
      "    SELECT\n",
      "        ct.tractce,\n",
      "        a.id,\n",
      "        ST_Distance(CAST(ct.wkb_geometry AS GEOGRAPHY), ST_SETSRID(ST_MAKEPOINT(-77.016299151467,38.904774980107156), 4326)) / 1000.0 as distance_to_dc_km\n",
      "    FROM\n",
      "        asphalt a\n",
      "    JOIN\n",
      "        census_tract ct\n",
      "    ON\n",
      "        st_intersects(a.pt, ct.wkb_geometry)\n",
      ")\n",
      "SELECT\n",
      "    pt.id,\n",
      "    pt.tractce,\n",
      "    MAX(a.name) AS name,\n",
      "    MAX(a.city) AS city,\n",
      "    MAX(a.state) AS state,\n",
      "    MAX(pt.distance_to_dc_km) AS distance_to_dc_km,\n",
      "    SUM(cb.pop20) as pop20,\n",
      "    ST_AREA(CAST(ST_UNION(cb.wkb_geometry) AS GEOGRAPHY)) / 1000000.0 as area_km2,\n",
      "    SUM(cb.pop20) / (ST_AREA(CAST(ST_UNION(cb.wkb_geometry) AS GEOGRAPHY)) / 1000000.0) as pop_density_km2\n",
      "FROM\n",
      "    census_block cb JOIN plant_tracts pt ON cb.tractce20 = pt.tractce\n",
      "    JOIN asphalt a ON pt.id = a.id\n",
      "GROUP BY 1, 2\n",
      "ORDER BY 8 DESC;\n",
      "\n"
     ]
    }
   ],
   "source": [
    "import psycopg2\n",
    "\n",
    "# Connection parameters\n",
    "host = \"192.168.1.50\"\n",
    "username = \"postgres\"\n",
    "password = \"\"  # An empty string for an empty password\n",
    "dbname = \"dc_asphalt\"  # Replace 'your_database_name' with the name of your database\n",
    "\n",
    "# Connect to the PostgreSQL server\n",
    "conn = psycopg2.connect(\n",
    "    host=host,\n",
    "    user=username,\n",
    "    password=password,\n",
    "    dbname=dbname\n",
    ")\n",
    "\n",
    "# Create a cursor\n",
    "cur = conn.cursor()\n",
    "\n",
    "# SQL query to execute\n",
    "query = \"\"\"\n",
    "WITH plant_tracts AS (\n",
    "    SELECT\n",
    "        ct.tractce,\n",
    "        a.id,\n",
    "        ST_Distance(CAST(ct.wkb_geometry AS GEOGRAPHY), ST_SETSRID(ST_MAKEPOINT({},{}), 4326)) / 1000.0 as distance_to_dc_km\n",
    "    FROM\n",
    "        asphalt a\n",
    "    JOIN\n",
    "        census_tract ct\n",
    "    ON\n",
    "        st_intersects(a.pt, ct.wkb_geometry)\n",
    ")\n",
    "SELECT\n",
    "    pt.id,\n",
    "    pt.tractce,\n",
    "    MAX(a.name) AS name,\n",
    "    MAX(a.city) AS city,\n",
    "    MAX(a.state) AS state,\n",
    "    MAX(pt.distance_to_dc_km) AS distance_to_dc_km,\n",
    "    SUM(cb.pop20) as pop20,\n",
    "    ST_AREA(CAST(ST_UNION(cb.wkb_geometry) AS GEOGRAPHY)) / 1000000.0 as area_km2,\n",
    "    SUM(cb.pop20) / (ST_AREA(CAST(ST_UNION(cb.wkb_geometry) AS GEOGRAPHY)) / 1000000.0) as pop_density_km2\n",
    "FROM\n",
    "    census_block cb JOIN plant_tracts pt ON cb.tractce20 = pt.tractce\n",
    "    JOIN asphalt a ON pt.id = a.id\n",
    "GROUP BY 1, 2\n",
    "ORDER BY 8 DESC;\n",
    "\"\"\".format(DC_CENTROID[0], DC_CENTROID[1])\n",
    "\n",
    "# Execute the query\n",
    "cur.execute(query)\n",
    "\n",
    "# Fetch all the results\n",
    "results = cur.fetchall()\n",
    "\n",
    "# Close the cursor and connection\n",
    "cur.close()\n",
    "conn.close()\n",
    "\n",
    "# Results is a list of tuples\n",
    "print(results)\n"
   ]
  }
 ],
 "metadata": {
  "kernelspec": {
   "display_name": "Python 3 (ipykernel)",
   "language": "python",
   "name": "python3"
  },
  "language_info": {
   "codemirror_mode": {
    "name": "ipython",
    "version": 3
   },
   "file_extension": ".py",
   "mimetype": "text/x-python",
   "name": "python",
   "nbconvert_exporter": "python",
   "pygments_lexer": "ipython3",
   "version": "3.11.8"
  }
 },
 "nbformat": 4,
 "nbformat_minor": 5
}
